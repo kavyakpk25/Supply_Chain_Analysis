{
 "cells": [
  {
   "cell_type": "code",
   "execution_count": 151,
   "metadata": {
    "executionInfo": {
     "elapsed": 1346,
     "status": "ok",
     "timestamp": 1606576088632,
     "user": {
      "displayName": "Rohan Biju",
      "photoUrl": "https://lh3.googleusercontent.com/a-/AOh14GhHVYdgqfL733GLg_81Ld22nn4tDsL6WD4z8lgYQQ=s64",
      "userId": "17612725314131264123"
     },
     "user_tz": -330
    },
    "id": "4C16XDzVodRP"
   },
   "outputs": [],
   "source": [
    "#Pandas, numpy for data processing\n",
    "import pandas as pd\n",
    "import numpy as np\n",
    "\n",
    "#sklearn libraries for preprocessing, normalisation, data-splitting\n",
    "from sklearn import metrics,preprocessing\n",
    "from sklearn.preprocessing import MinMaxScaler,StandardScaler\n",
    "from sklearn.model_selection import train_test_split,cross_val_score, cross_val_predict\n",
    "\n",
    "#sklearn Random Forest Classifier and Regressor\n",
    "from sklearn.ensemble import RandomForestRegressor\n",
    "from sklearn.ensemble import RandomForestClassifier\n",
    "\n",
    "#matplotlib for plots\n",
    "import matplotlib.pyplot as plt\n",
    "import seaborn as sns"
   ]
  },
  {
   "cell_type": "code",
   "execution_count": 152,
   "metadata": {
    "colab": {
     "base_uri": "https://localhost:8080/",
     "height": 465
    },
    "executionInfo": {
     "elapsed": 4128,
     "status": "ok",
     "timestamp": 1606576091429,
     "user": {
      "displayName": "Rohan Biju",
      "photoUrl": "https://lh3.googleusercontent.com/a-/AOh14GhHVYdgqfL733GLg_81Ld22nn4tDsL6WD4z8lgYQQ=s64",
      "userId": "17612725314131264123"
     },
     "user_tz": -330
    },
    "id": "yERjD9V1odRQ",
    "outputId": "0d8ae1b4-035c-46f0-d880-b5023cf26af5",
    "scrolled": true
   },
   "outputs": [
    {
     "data": {
      "text/html": [
       "<div>\n",
       "<style scoped>\n",
       "    .dataframe tbody tr th:only-of-type {\n",
       "        vertical-align: middle;\n",
       "    }\n",
       "\n",
       "    .dataframe tbody tr th {\n",
       "        vertical-align: top;\n",
       "    }\n",
       "\n",
       "    .dataframe thead th {\n",
       "        text-align: right;\n",
       "    }\n",
       "</style>\n",
       "<table border=\"1\" class=\"dataframe\">\n",
       "  <thead>\n",
       "    <tr style=\"text-align: right;\">\n",
       "      <th></th>\n",
       "      <th>Type</th>\n",
       "      <th>Days for shipping (real)</th>\n",
       "      <th>Days for shipment (scheduled)</th>\n",
       "      <th>Benefit per order</th>\n",
       "      <th>Sales per customer</th>\n",
       "      <th>Delivery Status</th>\n",
       "      <th>Late_delivery_risk</th>\n",
       "      <th>Category Id</th>\n",
       "      <th>Category Name</th>\n",
       "      <th>Customer City</th>\n",
       "      <th>...</th>\n",
       "      <th>Order Zipcode</th>\n",
       "      <th>Product Card Id</th>\n",
       "      <th>Product Category Id</th>\n",
       "      <th>Product Description</th>\n",
       "      <th>Product Image</th>\n",
       "      <th>Product Name</th>\n",
       "      <th>Product Price</th>\n",
       "      <th>Product Status</th>\n",
       "      <th>shipping date (DateOrders)</th>\n",
       "      <th>Shipping Mode</th>\n",
       "    </tr>\n",
       "  </thead>\n",
       "  <tbody>\n",
       "    <tr>\n",
       "      <th>0</th>\n",
       "      <td>DEBIT</td>\n",
       "      <td>3</td>\n",
       "      <td>4</td>\n",
       "      <td>91.250000</td>\n",
       "      <td>314.640015</td>\n",
       "      <td>Advance shipping</td>\n",
       "      <td>0</td>\n",
       "      <td>73</td>\n",
       "      <td>Sporting Goods</td>\n",
       "      <td>Caguas</td>\n",
       "      <td>...</td>\n",
       "      <td>NaN</td>\n",
       "      <td>1360</td>\n",
       "      <td>73</td>\n",
       "      <td>NaN</td>\n",
       "      <td>http://images.acmesports.sports/Smart+watch</td>\n",
       "      <td>Smart watch</td>\n",
       "      <td>327.75</td>\n",
       "      <td>0</td>\n",
       "      <td>2/3/2018 22:56</td>\n",
       "      <td>Standard Class</td>\n",
       "    </tr>\n",
       "    <tr>\n",
       "      <th>1</th>\n",
       "      <td>TRANSFER</td>\n",
       "      <td>5</td>\n",
       "      <td>4</td>\n",
       "      <td>-249.089996</td>\n",
       "      <td>311.359985</td>\n",
       "      <td>Late delivery</td>\n",
       "      <td>1</td>\n",
       "      <td>73</td>\n",
       "      <td>Sporting Goods</td>\n",
       "      <td>Caguas</td>\n",
       "      <td>...</td>\n",
       "      <td>NaN</td>\n",
       "      <td>1360</td>\n",
       "      <td>73</td>\n",
       "      <td>NaN</td>\n",
       "      <td>http://images.acmesports.sports/Smart+watch</td>\n",
       "      <td>Smart watch</td>\n",
       "      <td>327.75</td>\n",
       "      <td>0</td>\n",
       "      <td>1/18/2018 12:27</td>\n",
       "      <td>Standard Class</td>\n",
       "    </tr>\n",
       "    <tr>\n",
       "      <th>2</th>\n",
       "      <td>CASH</td>\n",
       "      <td>4</td>\n",
       "      <td>4</td>\n",
       "      <td>-247.779999</td>\n",
       "      <td>309.720001</td>\n",
       "      <td>Shipping on time</td>\n",
       "      <td>0</td>\n",
       "      <td>73</td>\n",
       "      <td>Sporting Goods</td>\n",
       "      <td>San Jose</td>\n",
       "      <td>...</td>\n",
       "      <td>NaN</td>\n",
       "      <td>1360</td>\n",
       "      <td>73</td>\n",
       "      <td>NaN</td>\n",
       "      <td>http://images.acmesports.sports/Smart+watch</td>\n",
       "      <td>Smart watch</td>\n",
       "      <td>327.75</td>\n",
       "      <td>0</td>\n",
       "      <td>1/17/2018 12:06</td>\n",
       "      <td>Standard Class</td>\n",
       "    </tr>\n",
       "    <tr>\n",
       "      <th>3</th>\n",
       "      <td>DEBIT</td>\n",
       "      <td>3</td>\n",
       "      <td>4</td>\n",
       "      <td>22.860001</td>\n",
       "      <td>304.809998</td>\n",
       "      <td>Advance shipping</td>\n",
       "      <td>0</td>\n",
       "      <td>73</td>\n",
       "      <td>Sporting Goods</td>\n",
       "      <td>Los Angeles</td>\n",
       "      <td>...</td>\n",
       "      <td>NaN</td>\n",
       "      <td>1360</td>\n",
       "      <td>73</td>\n",
       "      <td>NaN</td>\n",
       "      <td>http://images.acmesports.sports/Smart+watch</td>\n",
       "      <td>Smart watch</td>\n",
       "      <td>327.75</td>\n",
       "      <td>0</td>\n",
       "      <td>1/16/2018 11:45</td>\n",
       "      <td>Standard Class</td>\n",
       "    </tr>\n",
       "    <tr>\n",
       "      <th>4</th>\n",
       "      <td>PAYMENT</td>\n",
       "      <td>2</td>\n",
       "      <td>4</td>\n",
       "      <td>134.210007</td>\n",
       "      <td>298.250000</td>\n",
       "      <td>Advance shipping</td>\n",
       "      <td>0</td>\n",
       "      <td>73</td>\n",
       "      <td>Sporting Goods</td>\n",
       "      <td>Caguas</td>\n",
       "      <td>...</td>\n",
       "      <td>NaN</td>\n",
       "      <td>1360</td>\n",
       "      <td>73</td>\n",
       "      <td>NaN</td>\n",
       "      <td>http://images.acmesports.sports/Smart+watch</td>\n",
       "      <td>Smart watch</td>\n",
       "      <td>327.75</td>\n",
       "      <td>0</td>\n",
       "      <td>1/15/2018 11:24</td>\n",
       "      <td>Standard Class</td>\n",
       "    </tr>\n",
       "  </tbody>\n",
       "</table>\n",
       "<p>5 rows × 53 columns</p>\n",
       "</div>"
      ],
      "text/plain": [
       "       Type  Days for shipping (real)  Days for shipment (scheduled)  \\\n",
       "0     DEBIT                         3                              4   \n",
       "1  TRANSFER                         5                              4   \n",
       "2      CASH                         4                              4   \n",
       "3     DEBIT                         3                              4   \n",
       "4   PAYMENT                         2                              4   \n",
       "\n",
       "   Benefit per order  Sales per customer   Delivery Status  \\\n",
       "0          91.250000          314.640015  Advance shipping   \n",
       "1        -249.089996          311.359985     Late delivery   \n",
       "2        -247.779999          309.720001  Shipping on time   \n",
       "3          22.860001          304.809998  Advance shipping   \n",
       "4         134.210007          298.250000  Advance shipping   \n",
       "\n",
       "   Late_delivery_risk  Category Id   Category Name Customer City  ...  \\\n",
       "0                   0           73  Sporting Goods        Caguas  ...   \n",
       "1                   1           73  Sporting Goods        Caguas  ...   \n",
       "2                   0           73  Sporting Goods      San Jose  ...   \n",
       "3                   0           73  Sporting Goods   Los Angeles  ...   \n",
       "4                   0           73  Sporting Goods        Caguas  ...   \n",
       "\n",
       "  Order Zipcode Product Card Id Product Category Id  Product Description  \\\n",
       "0           NaN            1360                  73                  NaN   \n",
       "1           NaN            1360                  73                  NaN   \n",
       "2           NaN            1360                  73                  NaN   \n",
       "3           NaN            1360                  73                  NaN   \n",
       "4           NaN            1360                  73                  NaN   \n",
       "\n",
       "                                  Product Image  Product Name Product Price  \\\n",
       "0  http://images.acmesports.sports/Smart+watch   Smart watch         327.75   \n",
       "1  http://images.acmesports.sports/Smart+watch   Smart watch         327.75   \n",
       "2  http://images.acmesports.sports/Smart+watch   Smart watch         327.75   \n",
       "3  http://images.acmesports.sports/Smart+watch   Smart watch         327.75   \n",
       "4  http://images.acmesports.sports/Smart+watch   Smart watch         327.75   \n",
       "\n",
       "  Product Status shipping date (DateOrders)   Shipping Mode  \n",
       "0              0             2/3/2018 22:56  Standard Class  \n",
       "1              0            1/18/2018 12:27  Standard Class  \n",
       "2              0            1/17/2018 12:06  Standard Class  \n",
       "3              0            1/16/2018 11:45  Standard Class  \n",
       "4              0            1/15/2018 11:24  Standard Class  \n",
       "\n",
       "[5 rows x 53 columns]"
      ]
     },
     "execution_count": 152,
     "metadata": {},
     "output_type": "execute_result"
    }
   ],
   "source": [
    "#Importing Dataset - Using entire Dataset and model specific Data cleaning\n",
    "dataset=pd.read_csv(\"Dataset/DataCoSupplyChainDataset.csv\",header= 0,encoding= 'unicode_escape')\n",
    "dataset.head()"
   ]
  },
  {
   "cell_type": "markdown",
   "metadata": {
    "id": "DIJrhfMcodRS"
   },
   "source": [
    "Data Cleaning"
   ]
  },
  {
   "cell_type": "code",
   "execution_count": 153,
   "metadata": {
    "colab": {
     "base_uri": "https://localhost:8080/"
    },
    "executionInfo": {
     "elapsed": 4650,
     "status": "ok",
     "timestamp": 1606576091980,
     "user": {
      "displayName": "Rohan Biju",
      "photoUrl": "https://lh3.googleusercontent.com/a-/AOh14GhHVYdgqfL733GLg_81Ld22nn4tDsL6WD4z8lgYQQ=s64",
      "userId": "17612725314131264123"
     },
     "user_tz": -330
    },
    "id": "0QLFWgQTodRS",
    "outputId": "cf499da1-688e-40bf-bf67-185cbd54e4da"
   },
   "outputs": [
    {
     "name": "stdout",
     "output_type": "stream",
     "text": [
      "Index(['Type', 'Days for shipping (real)', 'Benefit per order',\n",
      "       'Sales per customer', 'Delivery Status', 'Late_delivery_risk',\n",
      "       'Category Id', 'Customer Zipcode', 'Department Id', 'Department Name',\n",
      "       'Market', 'order date (DateOrders)', 'Order Item Discount',\n",
      "       'Order Item Discount Rate', 'Order Item Id', 'Order Item Product Price',\n",
      "       'Order Item Profit Ratio', 'Order Item Quantity', 'Sales',\n",
      "       'Order Item Total', 'Order Profit Per Order', 'Order Region',\n",
      "       'Order State', 'Order Status', 'Product Category Id', 'Product Name',\n",
      "       'Product Price', 'Product Status', 'shipping date (DateOrders)',\n",
      "       'Shipping Mode'],\n",
      "      dtype='object')\n"
     ]
    }
   ],
   "source": [
    "#dropping unecessary columns\n",
    "data=dataset.drop(columns=['Customer Fname','Customer Lname','Order Zipcode', 'Product Description','Customer Email','Customer Password','Customer Street','Latitude','Longitude','Order Id','Order Item Cardprod Id','Order Zipcode','Product Description','Product Image'])\n",
    "data=data.drop(columns=['Days for shipment (scheduled)', 'Category Name', 'Customer City','Customer Country', 'Customer Id', 'Customer Segment', 'Customer State','Order City','Product Card Id', 'Order Country','Order Country', 'Order Customer Id'])\n",
    "data['Customer Zipcode']=data['Customer Zipcode'].fillna(0)\n",
    "print(data.columns)"
   ]
  },
  {
   "cell_type": "code",
   "execution_count": 154,
   "metadata": {},
   "outputs": [
    {
     "data": {
      "text/plain": [
       "Type                          0\n",
       "Days for shipping (real)      0\n",
       "Benefit per order             0\n",
       "Sales per customer            0\n",
       "Delivery Status               0\n",
       "Late_delivery_risk            0\n",
       "Category Id                   0\n",
       "Customer Zipcode              0\n",
       "Department Id                 0\n",
       "Department Name               0\n",
       "Market                        0\n",
       "order date (DateOrders)       0\n",
       "Order Item Discount           0\n",
       "Order Item Discount Rate      0\n",
       "Order Item Id                 0\n",
       "Order Item Product Price      0\n",
       "Order Item Profit Ratio       0\n",
       "Order Item Quantity           0\n",
       "Sales                         0\n",
       "Order Item Total              0\n",
       "Order Profit Per Order        0\n",
       "Order Region                  0\n",
       "Order State                   0\n",
       "Order Status                  0\n",
       "Product Category Id           0\n",
       "Product Name                  0\n",
       "Product Price                 0\n",
       "Product Status                0\n",
       "shipping date (DateOrders)    0\n",
       "Shipping Mode                 0\n",
       "dtype: int64"
      ]
     },
     "execution_count": 154,
     "metadata": {},
     "output_type": "execute_result"
    }
   ],
   "source": [
    "data.isnull().sum()"
   ]
  },
  {
   "cell_type": "code",
   "execution_count": 132,
   "metadata": {},
   "outputs": [
    {
     "data": {
      "text/plain": [
       "Type                            int64\n",
       "Days for shipping (real)        int64\n",
       "Benefit per order             float64\n",
       "Sales per customer            float64\n",
       "Category Id                     int64\n",
       "Customer Zipcode              float64\n",
       "Department Id                   int64\n",
       "Department Name                 int64\n",
       "Market                          int64\n",
       "Order Item Discount           float64\n",
       "Order Item Discount Rate      float64\n",
       "Order Item Id                   int64\n",
       "Order Item Product Price      float64\n",
       "Order Item Profit Ratio       float64\n",
       "Order Item Quantity             int64\n",
       "Sales                         float64\n",
       "Order Item Total              float64\n",
       "Order Profit Per Order        float64\n",
       "Order Region                    int64\n",
       "Order State                     int64\n",
       "Product Category Id             int64\n",
       "Product Name                    int64\n",
       "Product Price                 float64\n",
       "Product Status                  int64\n",
       "shipping date (DateOrders)      int64\n",
       "Shipping Mode                   int64\n",
       "fraud                           int64\n",
       "late_delivery                   int64\n",
       "dtype: object"
      ]
     },
     "execution_count": 132,
     "metadata": {},
     "output_type": "execute_result"
    }
   ],
   "source": [
    "# Categorical ---> Numerical values\n",
    "train_data=data.copy()\n",
    "train_data['fraud'] = np.where(train_data['Order Status'] == 'SUSPECTED_FRAUD', 1, 0)\n",
    "train_data['late_delivery']=np.where(train_data['Delivery Status'] == 'Late delivery', 1, 0)\n",
    "train_data.drop(['Delivery Status','Late_delivery_risk','Order Status','order date (DateOrders)'], axis=1, inplace=True)\n",
    "\n",
    "#Encoding Categorical Data into numeric data using a Labelencoder object\n",
    "le = preprocessing.LabelEncoder()\n",
    "#train_data['Customer Country']  = le.fit_transform(train_data['Customer Country'])\n",
    "train_data['Market']            = le.fit_transform(train_data['Market'])\n",
    "train_data['Type']              = le.fit_transform(train_data['Type'])\n",
    "train_data['Product Name']      = le.fit_transform(train_data['Product Name'])\n",
    "#train_data['Customer Segment']  = le.fit_transform(train_data['Customer Segment'])\n",
    "#train_data['Customer State']    = le.fit_transform(train_data['Customer State'])\n",
    "train_data['Order Region']      = le.fit_transform(train_data['Order Region'])\n",
    "#train_data['Order City']        = le.fit_transform(train_data['Order City'])\n",
    "#train_data['Category Name']     = le.fit_transform(train_data['Category Name'])\n",
    "#train_data['Customer City']     = le.fit_transform(train_data['Customer City'])\n",
    "train_data['Department Name']   = le.fit_transform(train_data['Department Name'])\n",
    "train_data['Order State']       = le.fit_transform(train_data['Order State'])\n",
    "train_data['Shipping Mode']     = le.fit_transform(train_data['Shipping Mode'])\n",
    "train_data['shipping date (DateOrders)']     = le.fit_transform(train_data['shipping date (DateOrders)'])\n",
    "#train_data['Order Country']     = le.fit_transform(train_data['Order Country'])\n",
    "#train_data['Customer Full Name']= le.fit_transform(train_data['Customer Full Name'])\n",
    "train_data.dtypes"
   ]
  },
  {
   "cell_type": "code",
   "execution_count": 133,
   "metadata": {
    "executionInfo": {
     "elapsed": 5579,
     "status": "ok",
     "timestamp": 1606576092929,
     "user": {
      "displayName": "Rohan Biju",
      "photoUrl": "https://lh3.googleusercontent.com/a-/AOh14GhHVYdgqfL733GLg_81Ld22nn4tDsL6WD4z8lgYQQ=s64",
      "userId": "17612725314131264123"
     },
     "user_tz": -330
    },
    "id": "8qycjUqdodRS"
   },
   "outputs": [],
   "source": [
    "#Test-train split for prediction of Sales\n",
    "xs=train_data.loc[:, train_data.columns != 'Sales']\n",
    "ys=train_data['Sales']\n",
    "xs_train, xs_test,ys_train,ys_test = train_test_split(xs,ys,test_size = 0.3, random_state = 42)\n",
    "\n",
    "#Test-train split for prediction of Items Quantity\n",
    "xq=train_data.loc[:, train_data.columns != 'Order Item Quantity']\n",
    "yq=train_data['Order Item Quantity']\n",
    "xq_train, xq_test,yq_train,yq_test = train_test_split(xq,yq,test_size = 0.3, random_state = 42)"
   ]
  },
  {
   "cell_type": "code",
   "execution_count": 134,
   "metadata": {
    "executionInfo": {
     "elapsed": 5571,
     "status": "ok",
     "timestamp": 1606576092931,
     "user": {
      "displayName": "Rohan Biju",
      "photoUrl": "https://lh3.googleusercontent.com/a-/AOh14GhHVYdgqfL733GLg_81Ld22nn4tDsL6WD4z8lgYQQ=s64",
      "userId": "17612725314131264123"
     },
     "user_tz": -330
    },
    "id": "23Ck1Yj3odRS"
   },
   "outputs": [],
   "source": [
    "scaler=MinMaxScaler()\n",
    "xs_train=scaler.fit_transform(xs_train)\n",
    "xs_test=scaler.transform(xs_test)\n",
    "xq_train=scaler.fit_transform(xq_train)\n",
    "xq_test=scaler.transform(xq_test)"
   ]
  },
  {
   "cell_type": "code",
   "execution_count": 135,
   "metadata": {
    "executionInfo": {
     "elapsed": 5567,
     "status": "ok",
     "timestamp": 1606576092932,
     "user": {
      "displayName": "Rohan Biju",
      "photoUrl": "https://lh3.googleusercontent.com/a-/AOh14GhHVYdgqfL733GLg_81Ld22nn4tDsL6WD4z8lgYQQ=s64",
      "userId": "17612725314131264123"
     },
     "user_tz": -330
    },
    "id": "Dq_nGDO3odRT"
   },
   "outputs": [],
   "source": [
    "def regressionmodel(model_s,model_q,xs_train, xs_test,ys_train,ys_test,xq_train, xq_test,yq_train,yq_test):\n",
    "    model_s=model_s.fit(xs_train,ys_train)\n",
    "    model_q=model_q.fit(xq_train,yq_train)\n",
    "    ys_pred=model_s.predict(xs_test)\n",
    "    yq_pred=model_q.predict(xq_test)\n",
    "    print('Model parameter used are:',model_s) #Printing the model to see which parameters are used\n",
    "    print(\"MAE of sales is         :\", metrics.mean_absolute_error(ys_test,ys_pred))\n",
    "    print(\"RMSE of sales is        :\",np.sqrt(metrics.mean_squared_error(ys_test,ys_pred)))\n",
    "    print(\"MAE of order quantity   :\", metrics.mean_absolute_error(yq_test,yq_pred))\n",
    "    print(\"RMSE of order quantity  :\",np.sqrt(metrics.mean_squared_error(yq_test,yq_pred)))\n",
    "    print(\"MSE of order quantity  :\",metrics.mean_squared_error(yq_test,yq_pred))"
   ]
  },
  {
   "cell_type": "code",
   "execution_count": 136,
   "metadata": {
    "colab": {
     "base_uri": "https://localhost:8080/"
    },
    "executionInfo": {
     "elapsed": 240696,
     "status": "ok",
     "timestamp": 1606576328068,
     "user": {
      "displayName": "Rohan Biju",
      "photoUrl": "https://lh3.googleusercontent.com/a-/AOh14GhHVYdgqfL733GLg_81Ld22nn4tDsL6WD4z8lgYQQ=s64",
      "userId": "17612725314131264123"
     },
     "user_tz": -330
    },
    "id": "5H14Xus2odRT",
    "outputId": "8e3008b9-5dbc-4cde-ef0a-dc3f6aa987ca",
    "scrolled": true
   },
   "outputs": [
    {
     "name": "stdout",
     "output_type": "stream",
     "text": [
      "Model parameter used are: RandomForestRegressor(max_depth=10, random_state=40)\n",
      "MAE of sales is         : 0.20533165652359966\n",
      "RMSE of sales is        : 1.7805923203160938\n",
      "MAE of order quantity   : 6.425880788832257e-05\n",
      "RMSE of order quantity  : 0.005136801983579812\n",
      "MSE of order quantity  : 2.6386734618509488e-05\n"
     ]
    }
   ],
   "source": [
    "model_s = RandomForestRegressor(n_estimators=100,max_depth=10, random_state=40)\n",
    "model_q = RandomForestRegressor(n_estimators=100,max_depth=10, random_state=40)\n",
    "regressionmodel(model_s,model_q,xs_train, xs_test,ys_train,ys_test,xq_train, xq_test,yq_train,yq_test)"
   ]
  },
  {
   "cell_type": "markdown",
   "metadata": {
    "id": "eEmAZ25lodRT"
   },
   "source": [
    "Random Forest Classifier - Incomplete"
   ]
  },
  {
   "cell_type": "code",
   "execution_count": 146,
   "metadata": {},
   "outputs": [],
   "source": [
    "xq=train_data.loc[:, train_data.columns != 'Sales']\n",
    "yq=train_data['Sales']\n",
    "xq_train, xq_test,yq_train,yq_test = train_test_split(xq,yq,test_size = 0.3, random_state = 42)"
   ]
  },
  {
   "cell_type": "code",
   "execution_count": 147,
   "metadata": {},
   "outputs": [
    {
     "data": {
      "text/html": [
       "<div>\n",
       "<style scoped>\n",
       "    .dataframe tbody tr th:only-of-type {\n",
       "        vertical-align: middle;\n",
       "    }\n",
       "\n",
       "    .dataframe tbody tr th {\n",
       "        vertical-align: top;\n",
       "    }\n",
       "\n",
       "    .dataframe thead th {\n",
       "        text-align: right;\n",
       "    }\n",
       "</style>\n",
       "<table border=\"1\" class=\"dataframe\">\n",
       "  <thead>\n",
       "    <tr style=\"text-align: right;\">\n",
       "      <th></th>\n",
       "      <th>Type</th>\n",
       "      <th>Days for shipping (real)</th>\n",
       "      <th>Benefit per order</th>\n",
       "      <th>Sales per customer</th>\n",
       "      <th>Category Id</th>\n",
       "      <th>Customer Zipcode</th>\n",
       "      <th>Department Id</th>\n",
       "      <th>Department Name</th>\n",
       "      <th>Market</th>\n",
       "      <th>Order Item Discount</th>\n",
       "      <th>...</th>\n",
       "      <th>Order Region</th>\n",
       "      <th>Order State</th>\n",
       "      <th>Product Category Id</th>\n",
       "      <th>Product Name</th>\n",
       "      <th>Product Price</th>\n",
       "      <th>Product Status</th>\n",
       "      <th>shipping date (DateOrders)</th>\n",
       "      <th>Shipping Mode</th>\n",
       "      <th>fraud</th>\n",
       "      <th>late_delivery</th>\n",
       "    </tr>\n",
       "  </thead>\n",
       "  <tbody>\n",
       "    <tr>\n",
       "      <th>99963</th>\n",
       "      <td>3</td>\n",
       "      <td>6</td>\n",
       "      <td>-190.570007</td>\n",
       "      <td>122.949997</td>\n",
       "      <td>46</td>\n",
       "      <td>45601.0</td>\n",
       "      <td>7</td>\n",
       "      <td>3</td>\n",
       "      <td>4</td>\n",
       "      <td>26.990000</td>\n",
       "      <td>...</td>\n",
       "      <td>21</td>\n",
       "      <td>718</td>\n",
       "      <td>46</td>\n",
       "      <td>67</td>\n",
       "      <td>49.980000</td>\n",
       "      <td>0</td>\n",
       "      <td>50448</td>\n",
       "      <td>2</td>\n",
       "      <td>0</td>\n",
       "      <td>1</td>\n",
       "    </tr>\n",
       "    <tr>\n",
       "      <th>63538</th>\n",
       "      <td>0</td>\n",
       "      <td>3</td>\n",
       "      <td>-9.960000</td>\n",
       "      <td>199.250000</td>\n",
       "      <td>70</td>\n",
       "      <td>58501.0</td>\n",
       "      <td>4</td>\n",
       "      <td>0</td>\n",
       "      <td>3</td>\n",
       "      <td>11.600000</td>\n",
       "      <td>...</td>\n",
       "      <td>7</td>\n",
       "      <td>9</td>\n",
       "      <td>70</td>\n",
       "      <td>48</td>\n",
       "      <td>210.850006</td>\n",
       "      <td>0</td>\n",
       "      <td>15807</td>\n",
       "      <td>3</td>\n",
       "      <td>0</td>\n",
       "      <td>0</td>\n",
       "    </tr>\n",
       "    <tr>\n",
       "      <th>6661</th>\n",
       "      <td>2</td>\n",
       "      <td>2</td>\n",
       "      <td>52.910000</td>\n",
       "      <td>151.169998</td>\n",
       "      <td>17</td>\n",
       "      <td>725.0</td>\n",
       "      <td>4</td>\n",
       "      <td>0</td>\n",
       "      <td>3</td>\n",
       "      <td>28.799999</td>\n",
       "      <td>...</td>\n",
       "      <td>13</td>\n",
       "      <td>610</td>\n",
       "      <td>17</td>\n",
       "      <td>71</td>\n",
       "      <td>59.990002</td>\n",
       "      <td>0</td>\n",
       "      <td>30108</td>\n",
       "      <td>3</td>\n",
       "      <td>0</td>\n",
       "      <td>0</td>\n",
       "    </tr>\n",
       "    <tr>\n",
       "      <th>93913</th>\n",
       "      <td>1</td>\n",
       "      <td>4</td>\n",
       "      <td>3.900000</td>\n",
       "      <td>97.489998</td>\n",
       "      <td>18</td>\n",
       "      <td>93536.0</td>\n",
       "      <td>4</td>\n",
       "      <td>0</td>\n",
       "      <td>3</td>\n",
       "      <td>32.500000</td>\n",
       "      <td>...</td>\n",
       "      <td>7</td>\n",
       "      <td>421</td>\n",
       "      <td>18</td>\n",
       "      <td>56</td>\n",
       "      <td>129.990005</td>\n",
       "      <td>0</td>\n",
       "      <td>26475</td>\n",
       "      <td>3</td>\n",
       "      <td>0</td>\n",
       "      <td>0</td>\n",
       "    </tr>\n",
       "    <tr>\n",
       "      <th>90626</th>\n",
       "      <td>2</td>\n",
       "      <td>3</td>\n",
       "      <td>-22.150000</td>\n",
       "      <td>103.989998</td>\n",
       "      <td>18</td>\n",
       "      <td>921.0</td>\n",
       "      <td>4</td>\n",
       "      <td>0</td>\n",
       "      <td>1</td>\n",
       "      <td>26.000000</td>\n",
       "      <td>...</td>\n",
       "      <td>10</td>\n",
       "      <td>325</td>\n",
       "      <td>18</td>\n",
       "      <td>56</td>\n",
       "      <td>129.990005</td>\n",
       "      <td>0</td>\n",
       "      <td>59857</td>\n",
       "      <td>3</td>\n",
       "      <td>0</td>\n",
       "      <td>0</td>\n",
       "    </tr>\n",
       "  </tbody>\n",
       "</table>\n",
       "<p>5 rows × 27 columns</p>\n",
       "</div>"
      ],
      "text/plain": [
       "       Type  Days for shipping (real)  Benefit per order  Sales per customer  \\\n",
       "99963     3                         6        -190.570007          122.949997   \n",
       "63538     0                         3          -9.960000          199.250000   \n",
       "6661      2                         2          52.910000          151.169998   \n",
       "93913     1                         4           3.900000           97.489998   \n",
       "90626     2                         3         -22.150000          103.989998   \n",
       "\n",
       "       Category Id  Customer Zipcode  Department Id  Department Name  Market  \\\n",
       "99963           46           45601.0              7                3       4   \n",
       "63538           70           58501.0              4                0       3   \n",
       "6661            17             725.0              4                0       3   \n",
       "93913           18           93536.0              4                0       3   \n",
       "90626           18             921.0              4                0       1   \n",
       "\n",
       "       Order Item Discount  ...  Order Region  Order State  \\\n",
       "99963            26.990000  ...            21          718   \n",
       "63538            11.600000  ...             7            9   \n",
       "6661             28.799999  ...            13          610   \n",
       "93913            32.500000  ...             7          421   \n",
       "90626            26.000000  ...            10          325   \n",
       "\n",
       "       Product Category Id  Product Name  Product Price  Product Status  \\\n",
       "99963                   46            67      49.980000               0   \n",
       "63538                   70            48     210.850006               0   \n",
       "6661                    17            71      59.990002               0   \n",
       "93913                   18            56     129.990005               0   \n",
       "90626                   18            56     129.990005               0   \n",
       "\n",
       "       shipping date (DateOrders)  Shipping Mode  fraud  late_delivery  \n",
       "99963                       50448              2      0              1  \n",
       "63538                       15807              3      0              0  \n",
       "6661                        30108              3      0              0  \n",
       "93913                       26475              3      0              0  \n",
       "90626                       59857              3      0              0  \n",
       "\n",
       "[5 rows x 27 columns]"
      ]
     },
     "execution_count": 147,
     "metadata": {},
     "output_type": "execute_result"
    }
   ],
   "source": [
    "xq_train.head()"
   ]
  },
  {
   "cell_type": "code",
   "execution_count": 148,
   "metadata": {
    "executionInfo": {
     "elapsed": 1152,
     "status": "ok",
     "timestamp": 1606576734128,
     "user": {
      "displayName": "Rohan Biju",
      "photoUrl": "https://lh3.googleusercontent.com/a-/AOh14GhHVYdgqfL733GLg_81Ld22nn4tDsL6WD4z8lgYQQ=s64",
      "userId": "17612725314131264123"
     },
     "user_tz": -330
    },
    "id": "M2cZ66AOodRT"
   },
   "outputs": [],
   "source": [
    "clf = RandomForestClassifier(bootstrap=True,ccp_alpha=0.0,\n",
    "                                                   max_depth=None,\n",
    "                                                   max_features='auto',\n",
    "                                                   max_leaf_nodes=None,\n",
    "                                                   max_samples=None,\n",
    "                                                   min_impurity_decrease=0.0,\n",
    "                                                   min_impurity_split=None,\n",
    "                                                   min_samples_leaf=1,\n",
    "                                                   min_samples_split=2,\n",
    "                                                   min_weight_fraction_leaf=0.0,\n",
    "                                                   n_estimators=100,\n",
    "                                                   n_jobs=None,)\n"
   ]
  },
  {
   "cell_type": "code",
   "execution_count": 149,
   "metadata": {
    "colab": {
     "base_uri": "https://localhost:8080/"
    },
    "executionInfo": {
     "elapsed": 31472,
     "status": "ok",
     "timestamp": 1606576764465,
     "user": {
      "displayName": "Rohan Biju",
      "photoUrl": "https://lh3.googleusercontent.com/a-/AOh14GhHVYdgqfL733GLg_81Ld22nn4tDsL6WD4z8lgYQQ=s64",
      "userId": "17612725314131264123"
     },
     "user_tz": -330
    },
    "id": "7baayvI7odRT",
    "outputId": "8a6f0828-7f78-476e-a192-21a38e7b2f0e"
   },
   "outputs": [
    {
     "ename": "ValueError",
     "evalue": "Unknown label type: 'continuous'",
     "output_type": "error",
     "traceback": [
      "\u001b[0;31m---------------------------------------------------------------------------\u001b[0m",
      "\u001b[0;31mValueError\u001b[0m                                Traceback (most recent call last)",
      "\u001b[0;32m<ipython-input-149-8e3dd6da5f94>\u001b[0m in \u001b[0;36m<module>\u001b[0;34m\u001b[0m\n\u001b[0;32m----> 1\u001b[0;31m \u001b[0mclf\u001b[0m\u001b[0;34m.\u001b[0m\u001b[0mfit\u001b[0m\u001b[0;34m(\u001b[0m\u001b[0mxq_train\u001b[0m\u001b[0;34m,\u001b[0m \u001b[0myq_train\u001b[0m\u001b[0;34m)\u001b[0m\u001b[0;34m\u001b[0m\u001b[0;34m\u001b[0m\u001b[0m\n\u001b[0m",
      "\u001b[0;32m~/.local/lib/python3.6/site-packages/sklearn/ensemble/_forest.py\u001b[0m in \u001b[0;36mfit\u001b[0;34m(self, X, y, sample_weight)\u001b[0m\n\u001b[1;32m    328\u001b[0m         \u001b[0mself\u001b[0m\u001b[0;34m.\u001b[0m\u001b[0mn_outputs_\u001b[0m \u001b[0;34m=\u001b[0m \u001b[0my\u001b[0m\u001b[0;34m.\u001b[0m\u001b[0mshape\u001b[0m\u001b[0;34m[\u001b[0m\u001b[0;36m1\u001b[0m\u001b[0;34m]\u001b[0m\u001b[0;34m\u001b[0m\u001b[0;34m\u001b[0m\u001b[0m\n\u001b[1;32m    329\u001b[0m \u001b[0;34m\u001b[0m\u001b[0m\n\u001b[0;32m--> 330\u001b[0;31m         \u001b[0my\u001b[0m\u001b[0;34m,\u001b[0m \u001b[0mexpanded_class_weight\u001b[0m \u001b[0;34m=\u001b[0m \u001b[0mself\u001b[0m\u001b[0;34m.\u001b[0m\u001b[0m_validate_y_class_weight\u001b[0m\u001b[0;34m(\u001b[0m\u001b[0my\u001b[0m\u001b[0;34m)\u001b[0m\u001b[0;34m\u001b[0m\u001b[0;34m\u001b[0m\u001b[0m\n\u001b[0m\u001b[1;32m    331\u001b[0m \u001b[0;34m\u001b[0m\u001b[0m\n\u001b[1;32m    332\u001b[0m         \u001b[0;32mif\u001b[0m \u001b[0mgetattr\u001b[0m\u001b[0;34m(\u001b[0m\u001b[0my\u001b[0m\u001b[0;34m,\u001b[0m \u001b[0;34m\"dtype\"\u001b[0m\u001b[0;34m,\u001b[0m \u001b[0;32mNone\u001b[0m\u001b[0;34m)\u001b[0m \u001b[0;34m!=\u001b[0m \u001b[0mDOUBLE\u001b[0m \u001b[0;32mor\u001b[0m \u001b[0;32mnot\u001b[0m \u001b[0my\u001b[0m\u001b[0;34m.\u001b[0m\u001b[0mflags\u001b[0m\u001b[0;34m.\u001b[0m\u001b[0mcontiguous\u001b[0m\u001b[0;34m:\u001b[0m\u001b[0;34m\u001b[0m\u001b[0;34m\u001b[0m\u001b[0m\n",
      "\u001b[0;32m~/.local/lib/python3.6/site-packages/sklearn/ensemble/_forest.py\u001b[0m in \u001b[0;36m_validate_y_class_weight\u001b[0;34m(self, y)\u001b[0m\n\u001b[1;32m    556\u001b[0m \u001b[0;34m\u001b[0m\u001b[0m\n\u001b[1;32m    557\u001b[0m     \u001b[0;32mdef\u001b[0m \u001b[0m_validate_y_class_weight\u001b[0m\u001b[0;34m(\u001b[0m\u001b[0mself\u001b[0m\u001b[0;34m,\u001b[0m \u001b[0my\u001b[0m\u001b[0;34m)\u001b[0m\u001b[0;34m:\u001b[0m\u001b[0;34m\u001b[0m\u001b[0;34m\u001b[0m\u001b[0m\n\u001b[0;32m--> 558\u001b[0;31m         \u001b[0mcheck_classification_targets\u001b[0m\u001b[0;34m(\u001b[0m\u001b[0my\u001b[0m\u001b[0;34m)\u001b[0m\u001b[0;34m\u001b[0m\u001b[0;34m\u001b[0m\u001b[0m\n\u001b[0m\u001b[1;32m    559\u001b[0m \u001b[0;34m\u001b[0m\u001b[0m\n\u001b[1;32m    560\u001b[0m         \u001b[0my\u001b[0m \u001b[0;34m=\u001b[0m \u001b[0mnp\u001b[0m\u001b[0;34m.\u001b[0m\u001b[0mcopy\u001b[0m\u001b[0;34m(\u001b[0m\u001b[0my\u001b[0m\u001b[0;34m)\u001b[0m\u001b[0;34m\u001b[0m\u001b[0;34m\u001b[0m\u001b[0m\n",
      "\u001b[0;32m~/.local/lib/python3.6/site-packages/sklearn/utils/multiclass.py\u001b[0m in \u001b[0;36mcheck_classification_targets\u001b[0;34m(y)\u001b[0m\n\u001b[1;32m    170\u001b[0m     if y_type not in ['binary', 'multiclass', 'multiclass-multioutput',\n\u001b[1;32m    171\u001b[0m                       'multilabel-indicator', 'multilabel-sequences']:\n\u001b[0;32m--> 172\u001b[0;31m         \u001b[0;32mraise\u001b[0m \u001b[0mValueError\u001b[0m\u001b[0;34m(\u001b[0m\u001b[0;34m\"Unknown label type: %r\"\u001b[0m \u001b[0;34m%\u001b[0m \u001b[0my_type\u001b[0m\u001b[0;34m)\u001b[0m\u001b[0;34m\u001b[0m\u001b[0;34m\u001b[0m\u001b[0m\n\u001b[0m\u001b[1;32m    173\u001b[0m \u001b[0;34m\u001b[0m\u001b[0m\n\u001b[1;32m    174\u001b[0m \u001b[0;34m\u001b[0m\u001b[0m\n",
      "\u001b[0;31mValueError\u001b[0m: Unknown label type: 'continuous'"
     ]
    }
   ],
   "source": [
    "clf.fit(xq_train, yq_train)"
   ]
  },
  {
   "cell_type": "code",
   "execution_count": 150,
   "metadata": {
    "executionInfo": {
     "elapsed": 31463,
     "status": "ok",
     "timestamp": 1606576764467,
     "user": {
      "displayName": "Rohan Biju",
      "photoUrl": "https://lh3.googleusercontent.com/a-/AOh14GhHVYdgqfL733GLg_81Ld22nn4tDsL6WD4z8lgYQQ=s64",
      "userId": "17612725314131264123"
     },
     "user_tz": -330
    },
    "id": "WtbRGq-JodRT"
   },
   "outputs": [
    {
     "ename": "AttributeError",
     "evalue": "'RandomForestClassifier' object has no attribute 'estimators_'",
     "output_type": "error",
     "traceback": [
      "\u001b[0;31m---------------------------------------------------------------------------\u001b[0m",
      "\u001b[0;31mAttributeError\u001b[0m                            Traceback (most recent call last)",
      "\u001b[0;32m<ipython-input-150-7b47802eaace>\u001b[0m in \u001b[0;36m<module>\u001b[0;34m\u001b[0m\n\u001b[0;32m----> 1\u001b[0;31m \u001b[0mprediction_test\u001b[0m \u001b[0;34m=\u001b[0m \u001b[0mclf\u001b[0m\u001b[0;34m.\u001b[0m\u001b[0mpredict\u001b[0m\u001b[0;34m(\u001b[0m\u001b[0mxq_test\u001b[0m\u001b[0;34m)\u001b[0m\u001b[0;34m\u001b[0m\u001b[0;34m\u001b[0m\u001b[0m\n\u001b[0m",
      "\u001b[0;32m~/.local/lib/python3.6/site-packages/sklearn/ensemble/_forest.py\u001b[0m in \u001b[0;36mpredict\u001b[0;34m(self, X)\u001b[0m\n\u001b[1;32m    627\u001b[0m             \u001b[0mThe\u001b[0m \u001b[0mpredicted\u001b[0m \u001b[0mclasses\u001b[0m\u001b[0;34m.\u001b[0m\u001b[0;34m\u001b[0m\u001b[0;34m\u001b[0m\u001b[0m\n\u001b[1;32m    628\u001b[0m         \"\"\"\n\u001b[0;32m--> 629\u001b[0;31m         \u001b[0mproba\u001b[0m \u001b[0;34m=\u001b[0m \u001b[0mself\u001b[0m\u001b[0;34m.\u001b[0m\u001b[0mpredict_proba\u001b[0m\u001b[0;34m(\u001b[0m\u001b[0mX\u001b[0m\u001b[0;34m)\u001b[0m\u001b[0;34m\u001b[0m\u001b[0;34m\u001b[0m\u001b[0m\n\u001b[0m\u001b[1;32m    630\u001b[0m \u001b[0;34m\u001b[0m\u001b[0m\n\u001b[1;32m    631\u001b[0m         \u001b[0;32mif\u001b[0m \u001b[0mself\u001b[0m\u001b[0;34m.\u001b[0m\u001b[0mn_outputs_\u001b[0m \u001b[0;34m==\u001b[0m \u001b[0;36m1\u001b[0m\u001b[0;34m:\u001b[0m\u001b[0;34m\u001b[0m\u001b[0;34m\u001b[0m\u001b[0m\n",
      "\u001b[0;32m~/.local/lib/python3.6/site-packages/sklearn/ensemble/_forest.py\u001b[0m in \u001b[0;36mpredict_proba\u001b[0;34m(self, X)\u001b[0m\n\u001b[1;32m    671\u001b[0m         \u001b[0mcheck_is_fitted\u001b[0m\u001b[0;34m(\u001b[0m\u001b[0mself\u001b[0m\u001b[0;34m)\u001b[0m\u001b[0;34m\u001b[0m\u001b[0;34m\u001b[0m\u001b[0m\n\u001b[1;32m    672\u001b[0m         \u001b[0;31m# Check data\u001b[0m\u001b[0;34m\u001b[0m\u001b[0;34m\u001b[0m\u001b[0;34m\u001b[0m\u001b[0m\n\u001b[0;32m--> 673\u001b[0;31m         \u001b[0mX\u001b[0m \u001b[0;34m=\u001b[0m \u001b[0mself\u001b[0m\u001b[0;34m.\u001b[0m\u001b[0m_validate_X_predict\u001b[0m\u001b[0;34m(\u001b[0m\u001b[0mX\u001b[0m\u001b[0;34m)\u001b[0m\u001b[0;34m\u001b[0m\u001b[0;34m\u001b[0m\u001b[0m\n\u001b[0m\u001b[1;32m    674\u001b[0m \u001b[0;34m\u001b[0m\u001b[0m\n\u001b[1;32m    675\u001b[0m         \u001b[0;31m# Assign chunk of trees to jobs\u001b[0m\u001b[0;34m\u001b[0m\u001b[0;34m\u001b[0m\u001b[0;34m\u001b[0m\u001b[0m\n",
      "\u001b[0;32m~/.local/lib/python3.6/site-packages/sklearn/ensemble/_forest.py\u001b[0m in \u001b[0;36m_validate_X_predict\u001b[0;34m(self, X)\u001b[0m\n\u001b[1;32m    419\u001b[0m         \u001b[0mcheck_is_fitted\u001b[0m\u001b[0;34m(\u001b[0m\u001b[0mself\u001b[0m\u001b[0;34m)\u001b[0m\u001b[0;34m\u001b[0m\u001b[0;34m\u001b[0m\u001b[0m\n\u001b[1;32m    420\u001b[0m \u001b[0;34m\u001b[0m\u001b[0m\n\u001b[0;32m--> 421\u001b[0;31m         \u001b[0;32mreturn\u001b[0m \u001b[0mself\u001b[0m\u001b[0;34m.\u001b[0m\u001b[0mestimators_\u001b[0m\u001b[0;34m[\u001b[0m\u001b[0;36m0\u001b[0m\u001b[0;34m]\u001b[0m\u001b[0;34m.\u001b[0m\u001b[0m_validate_X_predict\u001b[0m\u001b[0;34m(\u001b[0m\u001b[0mX\u001b[0m\u001b[0;34m,\u001b[0m \u001b[0mcheck_input\u001b[0m\u001b[0;34m=\u001b[0m\u001b[0;32mTrue\u001b[0m\u001b[0;34m)\u001b[0m\u001b[0;34m\u001b[0m\u001b[0;34m\u001b[0m\u001b[0m\n\u001b[0m\u001b[1;32m    422\u001b[0m \u001b[0;34m\u001b[0m\u001b[0m\n\u001b[1;32m    423\u001b[0m     \u001b[0;34m@\u001b[0m\u001b[0mproperty\u001b[0m\u001b[0;34m\u001b[0m\u001b[0;34m\u001b[0m\u001b[0m\n",
      "\u001b[0;31mAttributeError\u001b[0m: 'RandomForestClassifier' object has no attribute 'estimators_'"
     ]
    }
   ],
   "source": [
    "prediction_test = clf.predict(xq_test)"
   ]
  },
  {
   "cell_type": "code",
   "execution_count": 142,
   "metadata": {},
   "outputs": [
    {
     "data": {
      "text/plain": [
       "array([1, 5, 5, ..., 3, 5, 1])"
      ]
     },
     "execution_count": 142,
     "metadata": {},
     "output_type": "execute_result"
    }
   ],
   "source": [
    "prediction_test"
   ]
  },
  {
   "cell_type": "code",
   "execution_count": 143,
   "metadata": {},
   "outputs": [
    {
     "name": "stdout",
     "output_type": "stream",
     "text": [
      "F1 score of order quantity 1.0\n",
      "Accuracy Score of order quantity:  1.0\n",
      "MAE of order quantity   : 0.0\n",
      "RMSE of order quantity  : 0.0\n",
      "MSE of order quantity  : 0.0\n"
     ]
    }
   ],
   "source": [
    "print(\"F1 score of order quantity\",metrics.f1_score(yq_test, prediction_test, average='micro'))\n",
    "print(\"Accuracy Score of order quantity: \",metrics.accuracy_score(yq_test, prediction_test))\n",
    "print(\"MAE of order quantity   :\", metrics.mean_absolute_error(yq_test,prediction_test))\n",
    "print(\"RMSE of order quantity  :\",np.sqrt(metrics.mean_squared_error(yq_test,prediction_test)))\n",
    "print(\"MSE of order quantity  :\",metrics.mean_squared_error(yq_test,prediction_test))"
   ]
  },
  {
   "cell_type": "code",
   "execution_count": 144,
   "metadata": {},
   "outputs": [
    {
     "data": {
      "image/png": "[encoded data removed]",
      "text/plain": [
       "<Figure size 1152x504 with 2 Axes>"
      ]
     },
     "metadata": {},
     "output_type": "display_data"
    }
   ],
   "source": [
    "# Get and reshape confusion matrix data\n",
    "matrix = metrics.confusion_matrix(yq_test, prediction_test)\n",
    "matrix = matrix.astype('float') / matrix.sum(axis=1)[:, np.newaxis]\n",
    "\n",
    "# Build the plot\n",
    "plt.figure(figsize=(16,7))\n",
    "sns.set(font_scale=1.4)\n",
    "sns.heatmap(matrix, annot=True, annot_kws={'size':10},\n",
    "            cmap=plt.cm.Greens, linewidths=0.2)\n",
    "\n",
    "# Add labels to the plot\n",
    "# tick_marks = np.arange(len(class_names))\n",
    "# tick_marks2 = tick_marks + 0.5\n",
    "# plt.xticks(tick_marks, class_names, rotation=25)\n",
    "# plt.yticks(tick_marks2, class_names, rotation=0)\n",
    "plt.xlabel('Predicted label')\n",
    "plt.ylabel('True label')\n",
    "plt.title('Confusion Matrix for Random Forest Model')\n",
    "plt.show()"
   ]
  },
  {
   "cell_type": "code",
   "execution_count": 145,
   "metadata": {},
   "outputs": [
    {
     "name": "stdout",
     "output_type": "stream",
     "text": [
      "              precision    recall  f1-score   support\n",
      "\n",
      "           1       1.00      1.00      1.00     30014\n",
      "           2       1.00      1.00      1.00      5978\n",
      "           3       1.00      1.00      1.00      6074\n",
      "           4       1.00      1.00      1.00      6005\n",
      "           5       1.00      1.00      1.00      6085\n",
      "\n",
      "    accuracy                           1.00     54156\n",
      "   macro avg       1.00      1.00      1.00     54156\n",
      "weighted avg       1.00      1.00      1.00     54156\n",
      "\n"
     ]
    }
   ],
   "source": [
    "print(metrics.classification_report(yq_test, prediction_test))"
   ]
  },
  {
   "cell_type": "code",
   "execution_count": null,
   "metadata": {},
   "outputs": [],
   "source": []
  }
 ],
 "metadata": {
  "colab": {
   "collapsed_sections": [],
   "name": "DA Project - Random Forests.ipynb",
   "provenance": []
  },
  "kernelspec": {
   "display_name": "Python 3",
   "language": "python",
   "name": "python3"
  },
  "language_info": {
   "codemirror_mode": {
    "name": "ipython",
    "version": 3
   },
   "file_extension": ".py",
   "mimetype": "text/x-python",
   "name": "python",
   "nbconvert_exporter": "python",
   "pygments_lexer": "ipython3",
   "version": "3.6.9"
  }
 },
 "nbformat": 4,
 "nbformat_minor": 1
}
