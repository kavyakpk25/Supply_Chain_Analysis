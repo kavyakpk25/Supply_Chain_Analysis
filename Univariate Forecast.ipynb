{
 "cells": [
  {
   "cell_type": "markdown",
   "metadata": {},
   "source": [
    "A Univariate Time Series Model that relates Sales and Orders"
   ]
  },
  {
   "cell_type": "code",
   "execution_count": 74,
   "metadata": {},
   "outputs": [],
   "source": [
    "#Pandas, numpy for data handling\n",
    "import pandas as pd\n",
    "import numpy as np\n",
    "import sys\n",
    "import itertools\n",
    "import warnings\n",
    "warnings.filterwarnings(\"ignore\")\n",
    "import statsmodels.api as sm\n",
    "#Matlplotlib for plotting\n",
    "import matplotlib\n",
    "matplotlib.rcParams['axes.labelsize'] = 14\n",
    "matplotlib.rcParams['xtick.labelsize'] = 12\n",
    "matplotlib.rcParams['ytick.labelsize'] = 12\n",
    "matplotlib.rcParams['text.color'] = 'k'\n",
    "import matplotlib.pyplot as plt\n",
    "plt.style.use('fivethirtyeight')\n",
    "from sklearn.preprocessing import MinMaxScaler\n",
    "from sklearn.preprocessing import StandardScaler\n",
    "from math import sqrt\n",
    "from sklearn import metrics"
   ]
  },
  {
   "cell_type": "markdown",
   "metadata": {},
   "source": [
    "Reading Dataset into a Pandas DataFrame"
   ]
  },
  {
   "cell_type": "code",
   "execution_count": 75,
   "metadata": {},
   "outputs": [],
   "source": [
    "df=pd.read_csv('Dataset/Cleaned_data.csv',encoding='unicode_escape')"
   ]
  },
  {
   "cell_type": "markdown",
   "metadata": {},
   "source": [
    "Data Cleaning \n",
    "1. Drop all columns except Orders and Sales\n",
    "2. Take care of NULL/Missing Values in these columns"
   ]
  },
  {
   "cell_type": "code",
   "execution_count": 76,
   "metadata": {},
   "outputs": [
    {
     "data": {
      "text/html": [
       "<div>\n",
       "<style scoped>\n",
       "    .dataframe tbody tr th:only-of-type {\n",
       "        vertical-align: middle;\n",
       "    }\n",
       "\n",
       "    .dataframe tbody tr th {\n",
       "        vertical-align: top;\n",
       "    }\n",
       "\n",
       "    .dataframe thead th {\n",
       "        text-align: right;\n",
       "    }\n",
       "</style>\n",
       "<table border=\"1\" class=\"dataframe\">\n",
       "  <thead>\n",
       "    <tr style=\"text-align: right;\">\n",
       "      <th></th>\n",
       "      <th>Order_Date</th>\n",
       "      <th>Sales</th>\n",
       "      <th>Department Id</th>\n",
       "      <th>Department Name</th>\n",
       "    </tr>\n",
       "  </thead>\n",
       "  <tbody>\n",
       "    <tr>\n",
       "      <th>0</th>\n",
       "      <td>1/31/2018 22:56</td>\n",
       "      <td>0.93729</td>\n",
       "      <td>2</td>\n",
       "      <td>Fitness</td>\n",
       "    </tr>\n",
       "    <tr>\n",
       "      <th>1</th>\n",
       "      <td>1/13/2018 12:27</td>\n",
       "      <td>0.93729</td>\n",
       "      <td>2</td>\n",
       "      <td>Fitness</td>\n",
       "    </tr>\n",
       "    <tr>\n",
       "      <th>2</th>\n",
       "      <td>1/13/2018 12:06</td>\n",
       "      <td>0.93729</td>\n",
       "      <td>2</td>\n",
       "      <td>Fitness</td>\n",
       "    </tr>\n",
       "    <tr>\n",
       "      <th>3</th>\n",
       "      <td>1/13/2018 11:45</td>\n",
       "      <td>0.93729</td>\n",
       "      <td>2</td>\n",
       "      <td>Fitness</td>\n",
       "    </tr>\n",
       "    <tr>\n",
       "      <th>4</th>\n",
       "      <td>1/13/2018 11:24</td>\n",
       "      <td>0.93729</td>\n",
       "      <td>2</td>\n",
       "      <td>Fitness</td>\n",
       "    </tr>\n",
       "  </tbody>\n",
       "</table>\n",
       "</div>"
      ],
      "text/plain": [
       "        Order_Date    Sales  Department Id Department Name\n",
       "0  1/31/2018 22:56  0.93729              2         Fitness\n",
       "1  1/13/2018 12:27  0.93729              2         Fitness\n",
       "2  1/13/2018 12:06  0.93729              2         Fitness\n",
       "3  1/13/2018 11:45  0.93729              2         Fitness\n",
       "4  1/13/2018 11:24  0.93729              2         Fitness"
      ]
     },
     "execution_count": 76,
     "metadata": {},
     "output_type": "execute_result"
    }
   ],
   "source": [
    "#data=df.drop(columns=['Order Zipcode', 'Product Description','Customer Email','Customer Password','Customer Street','Latitude','Longitude','Order Id','Order Item Cardprod Id','Order Zipcode','Product Description','Product Image'])\n",
    "# data=df.rename(columns = {'order date (DateOrders)': 'Order_Date'}, inplace = False)\n",
    "data = data[['Order_Date','Sales','Department Id','Department Name']]\n",
    "data = data.dropna()\n",
    "data.head()"
   ]
  },
  {
   "cell_type": "markdown",
   "metadata": {},
   "source": [
    "Normalising the Numerical values, i.e, sales"
   ]
  },
  {
   "cell_type": "code",
   "execution_count": 77,
   "metadata": {},
   "outputs": [
    {
     "data": {
      "text/plain": [
       "Order_Date         0\n",
       "Sales              0\n",
       "Department Id      0\n",
       "Department Name    0\n",
       "dtype: int64"
      ]
     },
     "execution_count": 77,
     "metadata": {},
     "output_type": "execute_result"
    }
   ],
   "source": [
    "# sales=data['Sales']\n",
    "# values = sales.values\n",
    "# values = values.reshape((len(values),1))\n",
    "# scaler = StandardScaler()\n",
    "# scaler = scaler.fit(values)\n",
    "# normalized = scaler.transform(values)\n",
    "# sales=pd.DataFrame(data=normalized,index=range(0,len(values)),columns=['Sales'])\n",
    "# data.drop(labels=['Sales'], axis=\"columns\", inplace=True)\n",
    "# data['Sales'] = sales['Sales']\n",
    "data.isnull().sum()\n",
    "#data = data.dropna()\n",
    "#data.head()\"\""
   ]
  },
  {
   "cell_type": "markdown",
   "metadata": {},
   "source": [
    "Null Values"
   ]
  },
  {
   "cell_type": "code",
   "execution_count": 78,
   "metadata": {},
   "outputs": [
    {
     "data": {
      "text/plain": [
       "Order_Date         0\n",
       "Sales              0\n",
       "Department Id      0\n",
       "Department Name    0\n",
       "dtype: int64"
      ]
     },
     "execution_count": 78,
     "metadata": {},
     "output_type": "execute_result"
    }
   ],
   "source": [
    "data.isnull().sum()"
   ]
  },
  {
   "cell_type": "markdown",
   "metadata": {},
   "source": [
    "Check the range of Data with respect to order dates"
   ]
  },
  {
   "cell_type": "code",
   "execution_count": 79,
   "metadata": {},
   "outputs": [
    {
     "data": {
      "text/plain": [
       "('1/1/2015 0:00', '9/9/2017 9:50')"
      ]
     },
     "execution_count": 79,
     "metadata": {},
     "output_type": "execute_result"
    }
   ],
   "source": [
    "data['Order_Date'].min(), data['Order_Date'].max()"
   ]
  },
  {
   "cell_type": "code",
   "execution_count": 80,
   "metadata": {},
   "outputs": [
    {
     "data": {
      "text/html": [
       "<div>\n",
       "<style scoped>\n",
       "    .dataframe tbody tr th:only-of-type {\n",
       "        vertical-align: middle;\n",
       "    }\n",
       "\n",
       "    .dataframe tbody tr th {\n",
       "        vertical-align: top;\n",
       "    }\n",
       "\n",
       "    .dataframe thead th {\n",
       "        text-align: right;\n",
       "    }\n",
       "</style>\n",
       "<table border=\"1\" class=\"dataframe\">\n",
       "  <thead>\n",
       "    <tr style=\"text-align: right;\">\n",
       "      <th></th>\n",
       "      <th>Order_Date</th>\n",
       "      <th>Sales</th>\n",
       "      <th>Department Id</th>\n",
       "      <th>Date</th>\n",
       "      <th>Year</th>\n",
       "    </tr>\n",
       "  </thead>\n",
       "  <tbody>\n",
       "    <tr>\n",
       "      <th>0</th>\n",
       "      <td>1/31/2018 22:56</td>\n",
       "      <td>0.93729</td>\n",
       "      <td>2</td>\n",
       "      <td>1/31/2018</td>\n",
       "      <td>2018</td>\n",
       "    </tr>\n",
       "    <tr>\n",
       "      <th>1</th>\n",
       "      <td>1/13/2018 12:27</td>\n",
       "      <td>0.93729</td>\n",
       "      <td>2</td>\n",
       "      <td>1/13/2018</td>\n",
       "      <td>2018</td>\n",
       "    </tr>\n",
       "    <tr>\n",
       "      <th>2</th>\n",
       "      <td>1/13/2018 12:06</td>\n",
       "      <td>0.93729</td>\n",
       "      <td>2</td>\n",
       "      <td>1/13/2018</td>\n",
       "      <td>2018</td>\n",
       "    </tr>\n",
       "    <tr>\n",
       "      <th>3</th>\n",
       "      <td>1/13/2018 11:45</td>\n",
       "      <td>0.93729</td>\n",
       "      <td>2</td>\n",
       "      <td>1/13/2018</td>\n",
       "      <td>2018</td>\n",
       "    </tr>\n",
       "    <tr>\n",
       "      <th>4</th>\n",
       "      <td>1/13/2018 11:24</td>\n",
       "      <td>0.93729</td>\n",
       "      <td>2</td>\n",
       "      <td>1/13/2018</td>\n",
       "      <td>2018</td>\n",
       "    </tr>\n",
       "  </tbody>\n",
       "</table>\n",
       "</div>"
      ],
      "text/plain": [
       "        Order_Date    Sales  Department Id       Date  Year\n",
       "0  1/31/2018 22:56  0.93729              2  1/31/2018  2018\n",
       "1  1/13/2018 12:27  0.93729              2  1/13/2018  2018\n",
       "2  1/13/2018 12:06  0.93729              2  1/13/2018  2018\n",
       "3  1/13/2018 11:45  0.93729              2  1/13/2018  2018\n",
       "4  1/13/2018 11:24  0.93729              2  1/13/2018  2018"
      ]
     },
     "execution_count": 80,
     "metadata": {},
     "output_type": "execute_result"
    }
   ],
   "source": [
    "everyday=data[['Order_Date','Sales','Department Id']]\n",
    "everyday['Date'] = [x.split(None, 1)[0] for x in everyday['Order_Date']]\n",
    "everyday['Year'] = [x.split('/')[2][:4] for x in everyday['Order_Date']]\n",
    "everyday.head()\n",
    "everyday.head()"
   ]
  },
  {
   "cell_type": "code",
   "execution_count": 81,
   "metadata": {},
   "outputs": [],
   "source": [
    "#everyday=everyday.groupby('Order_Date')['Sales'].sum().reset_index()\n",
    "everyday=everyday.groupby('Date')['Sales'].sum().reset_index()"
   ]
  },
  {
   "cell_type": "code",
   "execution_count": 82,
   "metadata": {},
   "outputs": [],
   "source": [
    "#everyday=everyday.set_index('Order_Date')\n",
    "everyday=everyday.set_index('Date')"
   ]
  },
  {
   "cell_type": "code",
   "execution_count": 83,
   "metadata": {},
   "outputs": [
    {
     "data": {
      "text/plain": [
       "Sales    0\n",
       "dtype: int64"
      ]
     },
     "execution_count": 83,
     "metadata": {},
     "output_type": "execute_result"
    }
   ],
   "source": [
    "everyday.head()\n",
    "everyday.isnull().sum()"
   ]
  },
  {
   "cell_type": "code",
   "execution_count": 84,
   "metadata": {},
   "outputs": [
    {
     "data": {
      "text/plain": [
       "Date\n",
       "2015-01-01    -8.019847\n",
       "2015-02-01    -9.889834\n",
       "2015-03-01   -10.089685\n",
       "2015-04-01    -7.578405\n",
       "2015-05-01   -10.030274\n",
       "Freq: MS, Name: Sales, dtype: float64"
      ]
     },
     "execution_count": 84,
     "metadata": {},
     "output_type": "execute_result"
    }
   ],
   "source": [
    "everyday.index = pd.to_datetime(everyday.index)\n",
    "y = everyday['Sales'].resample('MS').mean()\n",
    "y.head()\n",
    "y=y.dropna()\n",
    "y.head()"
   ]
  },
  {
   "cell_type": "code",
   "execution_count": 85,
   "metadata": {},
   "outputs": [
    {
     "data": {
      "image/png": "[encoded data removed]",
      "text/plain": [
       "<Figure size 1080x432 with 1 Axes>"
      ]
     },
     "metadata": {},
     "output_type": "display_data"
    }
   ],
   "source": [
    "y.plot(figsize=(15, 6))\n",
    "plt.show()"
   ]
  },
  {
   "cell_type": "markdown",
   "metadata": {},
   "source": [
    "Time-series Decomposition\n",
    "\n",
    "Seperating the cyclic/seasonal and residual/noise components from the trend, to observe the effect that they have on overall sales.\n",
    "\n",
    "Trend: The increasing or decreasing value in the series.\n",
    "\n",
    "Seasonality: The repeating short-term cycle in the series.\n",
    "\n",
    "Residual: The random variation in the series\n"
   ]
  },
  {
   "cell_type": "code",
   "execution_count": 86,
   "metadata": {
    "scrolled": true
   },
   "outputs": [
    {
     "data": {
      "text/plain": [
       "Date\n",
       "2015-01-01    -8.019847\n",
       "2015-02-01    -9.889834\n",
       "2015-03-01   -10.089685\n",
       "2015-04-01    -7.578405\n",
       "2015-05-01   -10.030274\n",
       "Freq: MS, Name: Sales, dtype: float64"
      ]
     },
     "execution_count": 86,
     "metadata": {},
     "output_type": "execute_result"
    }
   ],
   "source": [
    "from pylab import rcParams\n",
    "rcParams['figure.figsize'] = 18, 8\n",
    "decomposition = sm.tsa.seasonal_decompose(y, model='additive')#multiplicative\n",
    "# fig = decomposition.plot()\n",
    "# plt.show()\n",
    "y.head()"
   ]
  },
  {
   "cell_type": "markdown",
   "metadata": {},
   "source": [
    "MODEL1: SARIMA(Seasonal Autoregressive Integrated Moving Average)\n",
    "\n",
    "Configuring a SARIMA requires selecting hyperparameters for both the trend and seasonal elements of the series:\n",
    "\n",
    "    p: Trend autoregression order\n",
    "    d: Trend difference order\n",
    "    q: Trend moving average order\n",
    "\n",
    "\n",
    "\n",
    "Generating all possible combinations of p,d,q to find which suits our data the best - comparison done using AIC\n",
    "(Akaike Information Critera) : a widely used measure of a statistical model that quantifies \n",
    "\n",
    "1) the goodness of fit\n",
    "2) the simplicity/parsimony\n",
    "\n",
    "When comparing two models, the one with the lower AIC is generally “better”\n",
    "\n"
   ]
  },
  {
   "cell_type": "code",
   "execution_count": 87,
   "metadata": {},
   "outputs": [],
   "source": [
    " p = d = q = range(0, 2)\n",
    "pdq = list(itertools.product(p, d, q))\n",
    "seasonal_pdq = [(x[0], x[1], x[2], 12) for x in list(itertools.product(p, d, q))]"
   ]
  },
  {
   "cell_type": "code",
   "execution_count": 88,
   "metadata": {},
   "outputs": [
    {
     "name": "stdout",
     "output_type": "stream",
     "text": [
      "[(1, 1, 1), (1, 1, 1, 12), 115.98914604922305]\n"
     ]
    }
   ],
   "source": [
    "minimal_AIC=sys.float_info.max\n",
    "l=[]\n",
    "for param in pdq:\n",
    "    for param_seasonal in seasonal_pdq:\n",
    "        try:\n",
    "            mod = sm.tsa.statespace.SARIMAX(y,order=param,seasonal_order=param_seasonal,enforce_stationarity=False,enforce_invertibility=False)\n",
    "            results = mod.fit()\n",
    "            if(results.aic<minimal_AIC):\n",
    "                l=[]\n",
    "                l.append(param)\n",
    "                l.append(param_seasonal)\n",
    "                l.append(results.aic)\n",
    "            #print('ARIMA{}x{}12 - AIC:{}'.format(param, param_seasonal, results.aic))\n",
    "        except:\n",
    "            continue\n",
    "print(l)"
   ]
  },
  {
   "cell_type": "markdown",
   "metadata": {},
   "source": [
    "[(1, 1, 1),(1, 1, 1, 12), 115.71130796243541] - gives the lowest AIC Value"
   ]
  },
  {
   "cell_type": "code",
   "execution_count": 89,
   "metadata": {},
   "outputs": [
    {
     "name": "stdout",
     "output_type": "stream",
     "text": [
      "==============================================================================\n",
      "                 coef    std err          z      P>|z|      [0.025      0.975]\n",
      "------------------------------------------------------------------------------\n",
      "ar.L1          0.4016      1.702      0.236      0.813      -2.934       3.737\n",
      "ma.L1         -1.0001   2709.360     -0.000      1.000   -5311.249    5309.249\n",
      "ar.S.L12      -0.0002     17.592  -1.28e-05      1.000     -34.479      34.479\n",
      "ma.S.L12      -1.0156    987.904     -0.001      0.999   -1937.272    1935.241\n",
      "sigma2      1396.5950   4.04e+06      0.000      1.000   -7.92e+06    7.92e+06\n",
      "==============================================================================\n"
     ]
    }
   ],
   "source": [
    "mod = sm.tsa.statespace.SARIMAX(y, order=(1, 1, 1),seasonal_order=(1, 1, 1, 12),enforce_stationarity=False,enforce_invertibility=False)\n",
    "results = mod.fit()\n",
    "print(results.summary().tables[1])"
   ]
  },
  {
   "cell_type": "code",
   "execution_count": null,
   "metadata": {},
   "outputs": [],
   "source": []
  },
  {
   "cell_type": "code",
   "execution_count": 90,
   "metadata": {},
   "outputs": [
    {
     "data": {
      "text/plain": [
       "Date\n",
       "2015-01-01    -8.019847\n",
       "2015-02-01    -9.889834\n",
       "2015-03-01   -10.089685\n",
       "2015-04-01    -7.578405\n",
       "2015-05-01   -10.030274\n",
       "Freq: MS, Name: Sales, dtype: float64"
      ]
     },
     "execution_count": 90,
     "metadata": {},
     "output_type": "execute_result"
    }
   ],
   "source": [
    "y.head()\n"
   ]
  },
  {
   "cell_type": "code",
   "execution_count": 91,
   "metadata": {},
   "outputs": [
    {
     "data": {
      "image/png": "[encoded data removed]",
      "text/plain": [
       "<Figure size 1008x504 with 1 Axes>"
      ]
     },
     "metadata": {},
     "output_type": "display_data"
    }
   ],
   "source": [
    "pred = results.get_prediction(start=pd.to_datetime('2015-01-01'), dynamic=False)\n",
    "pred_ci = pred.conf_int()\n",
    "ax = y['2015':].plot(label='observed')\n",
    "pred.predicted_mean.plot(ax=ax, label='One-step ahead Forecast', alpha=.7, figsize=(14, 7))\n",
    "ax.fill_between(pred_ci.index,\n",
    "                pred_ci.iloc[:, 0],\n",
    "                pred_ci.iloc[:, 1], color='k', alpha=.2)\n",
    "ax.set_xlabel('Date')\n",
    "ax.set_ylabel('Sales')\n",
    "plt.legend()\n",
    "plt.show()"
   ]
  },
  {
   "cell_type": "code",
   "execution_count": 92,
   "metadata": {},
   "outputs": [
    {
     "name": "stdout",
     "output_type": "stream",
     "text": [
      "MSE:  633.7446360385704\n"
     ]
    }
   ],
   "source": [
    "y_forecasted = pred.predicted_mean\n",
    "y_truth = y\n",
    "print(\"MSE: \",metrics.mean_squared_error(y_truth,y_forecasted))"
   ]
  },
  {
   "cell_type": "code",
   "execution_count": 93,
   "metadata": {},
   "outputs": [
    {
     "data": {
      "image/png": "[encoded data removed]",
      "text/plain": [
       "<Figure size 1008x504 with 1 Axes>"
      ]
     },
     "metadata": {},
     "output_type": "display_data"
    }
   ],
   "source": [
    "pred_uc = results.get_forecast(steps=100)\n",
    "pred_ci = pred_uc.conf_int()#gives confidence interval\n",
    "ax = y.plot(label='observed', figsize=(14, 7))\n",
    "pred_uc.predicted_mean.plot(ax=ax, label='Forecast')\n",
    "ax.fill_between(pred_ci.index,pred_ci.iloc[:, 0],pred_ci.iloc[:, 1], color='k', alpha=.25)\n",
    "ax.set_xlabel('Date')\n",
    "ax.set_ylabel('Sales')\n",
    "plt.legend()\n",
    "plt.show()"
   ]
  },
  {
   "cell_type": "markdown",
   "metadata": {},
   "source": [
    "Alternate model : Using Prophet, an efficient library used in time series (extra)"
   ]
  },
  {
   "cell_type": "code",
   "execution_count": 94,
   "metadata": {},
   "outputs": [],
   "source": [
    "from fbprophet import Prophet\n",
    "pro = data[['Order_Date','Sales']]\n",
    "pro = pro.rename(columns={'Order_Date': 'ds', 'Sales': 'y'})\n",
    "pro.head()\n",
    "pro_model = Prophet(interval_width=0.95)\n",
    "pro_model.fit(pro)\n",
    "pro_forecast = pro_model.make_future_dataframe(periods=36, freq='MS')\n",
    "pro_forecast = pro_model.predict(pro_forecast)\n",
    "\n",
    "plt.figure(figsize=(18, 6))\n",
    "pro_model.plot(pro_forecast, xlabel = 'Date', ylabel = 'Sales')\n",
    "plt.title('Total Sales');"
   ]
  },
  {
   "cell_type": "code",
   "execution_count": null,
   "metadata": {},
   "outputs": [],
   "source": []
  },
  {
   "cell_type": "code",
   "execution_count": null,
   "metadata": {},
   "outputs": [],
   "source": []
  },
  {
   "cell_type": "code",
   "execution_count": null,
   "metadata": {},
   "outputs": [],
   "source": []
  },
  {
   "cell_type": "code",
   "execution_count": null,
   "metadata": {},
   "outputs": [],
   "source": []
  },
  {
   "cell_type": "code",
   "execution_count": null,
   "metadata": {},
   "outputs": [],
   "source": []
  }
 ],
 "metadata": {
  "kernelspec": {
   "display_name": "Python 3",
   "language": "python",
   "name": "python3"
  },
  "language_info": {
   "codemirror_mode": {
    "name": "ipython",
    "version": 3
   },
   "file_extension": ".py",
   "mimetype": "text/x-python",
   "name": "python",
   "nbconvert_exporter": "python",
   "pygments_lexer": "ipython3",
   "version": "3.6.9"
  }
 },
 "nbformat": 4,
 "nbformat_minor": 2
}
